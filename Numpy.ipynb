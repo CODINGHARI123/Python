{
  "nbformat": 4,
  "nbformat_minor": 0,
  "metadata": {
    "colab": {
      "provenance": [],
      "authorship_tag": "ABX9TyM7QBxAi4rn7spa2zeb2l9A",
      "include_colab_link": true
    },
    "kernelspec": {
      "name": "python3",
      "display_name": "Python 3"
    },
    "language_info": {
      "name": "python"
    }
  },
  "cells": [
    {
      "cell_type": "markdown",
      "metadata": {
        "id": "view-in-github",
        "colab_type": "text"
      },
      "source": [
        "<a href=\"https://colab.research.google.com/github/CODINGHARI123/Python/blob/main/Numpy.ipynb\" target=\"_parent\"><img src=\"https://colab.research.google.com/assets/colab-badge.svg\" alt=\"Open In Colab\"/></a>"
      ]
    },
    {
      "cell_type": "code",
      "source": [
        "!pip install numpy"
      ],
      "metadata": {
        "id": "Tenh87fsLJhD",
        "outputId": "bb400853-dfcf-499a-a010-966292e34c63",
        "colab": {
          "base_uri": "https://localhost:8080/"
        }
      },
      "execution_count": null,
      "outputs": [
        {
          "output_type": "stream",
          "name": "stdout",
          "text": [
            "Requirement already satisfied: numpy in /usr/local/lib/python3.10/dist-packages (1.25.2)\n"
          ]
        }
      ]
    },
    {
      "cell_type": "code",
      "source": [
        "import numpy as np\n",
        "numpy.__version__"
      ],
      "metadata": {
        "colab": {
          "base_uri": "https://localhost:8080/",
          "height": 36
        },
        "id": "12gx4Md17lLR",
        "outputId": "8767a900-0885-4819-bf06-157ad13bd2e5"
      },
      "execution_count": null,
      "outputs": [
        {
          "output_type": "execute_result",
          "data": {
            "text/plain": [
              "'1.25.2'"
            ],
            "application/vnd.google.colaboratory.intrinsic+json": {
              "type": "string"
            }
          },
          "metadata": {},
          "execution_count": 32
        }
      ]
    },
    {
      "cell_type": "markdown",
      "source": [
        "# Array Initialization -Single Dimension"
      ],
      "metadata": {
        "id": "RZ_5Zu5T8Obb"
      }
    },
    {
      "cell_type": "code",
      "execution_count": null,
      "metadata": {
        "colab": {
          "base_uri": "https://localhost:8080/"
        },
        "id": "jyaAi3bX5lOT",
        "outputId": "11626ccd-ef6d-4e05-eb10-9da0f8cbfece"
      },
      "outputs": [
        {
          "output_type": "stream",
          "name": "stdout",
          "text": [
            "[7 9 9 2]\n"
          ]
        }
      ],
      "source": [
        "# Numpy Array Program\n",
        "# Initialization of Array\n",
        "a=np.array([7,9,9,2])\n",
        "print(a)"
      ]
    },
    {
      "cell_type": "markdown",
      "source": [
        "# Array Initialization -Multi Dimension"
      ],
      "metadata": {
        "id": "GOt9awvC8oqy"
      }
    },
    {
      "cell_type": "code",
      "source": [
        "b=np.array([(7,7,8,8),(9,9,9,10),(11,12,13,10)])\n",
        "print(b)"
      ],
      "metadata": {
        "colab": {
          "base_uri": "https://localhost:8080/"
        },
        "id": "WTim5Z5r8bBm",
        "outputId": "f5e7d772-fe2c-4c1e-9cc5-70412a15f131"
      },
      "execution_count": null,
      "outputs": [
        {
          "output_type": "stream",
          "name": "stdout",
          "text": [
            "[[ 7  7  8  8]\n",
            " [ 9  9  9 10]\n",
            " [11 12 13 10]]\n"
          ]
        }
      ]
    },
    {
      "cell_type": "markdown",
      "source": [
        "# Generating Array"
      ],
      "metadata": {
        "id": "Iod2uwsc-Zw-"
      }
    },
    {
      "cell_type": "code",
      "source": [
        "c=np.arange(1,10,2) # range of values in array\n",
        "d=np.linspace(1,5,6)# set of values by interval [start,end,no.of valuesEqaulInterva]\n",
        "print(c)\n",
        "print(d)"
      ],
      "metadata": {
        "colab": {
          "base_uri": "https://localhost:8080/"
        },
        "id": "BIp2wWWZ8a-N",
        "outputId": "63f85fb1-800d-42d3-a9ff-f38153361215"
      },
      "execution_count": null,
      "outputs": [
        {
          "output_type": "stream",
          "name": "stdout",
          "text": [
            "[1 3 5 7 9]\n",
            "[1.  1.8 2.6 3.4 4.2 5. ]\n"
          ]
        }
      ]
    },
    {
      "cell_type": "markdown",
      "source": [
        "# Array Properties"
      ],
      "metadata": {
        "id": "dexX_czcAM13"
      }
    },
    {
      "cell_type": "code",
      "source": [
        "a=np.array([7,9,9,2])\n",
        "b=np.array([(7,9,9,10),(11,12,13,14)])\n",
        "print(\"Dimension of Array_1:-\",a.ndim)#Dimension of Array\n",
        "print(\"Dimension of Array_2:-\",b.ndim)\n",
        "print(\"Shape of Array_1:-\",a.shape)#Shape of Array\n",
        "print(\"Shape of Array_2:-\",b.shape)\n",
        "print(\"Data Type of Array_1:-\",a.dtype)#Data Type of Array\n",
        "print(\"Data Type of Array_2:-\",b.dtype)\n",
        "print(\"Size of Array_1:-\",a.size)#Size of Array\n",
        "print(\"Size of Array_2:-\",b.size)"
      ],
      "metadata": {
        "colab": {
          "base_uri": "https://localhost:8080/"
        },
        "id": "NpN9fC5t8a6l",
        "outputId": "ce7df516-cd7a-4124-af63-f6422b9605b0"
      },
      "execution_count": null,
      "outputs": [
        {
          "output_type": "stream",
          "name": "stdout",
          "text": [
            "Dimension of Array_1:- 1\n",
            "Dimension of Array_2:- 2\n",
            "Shape of Array_1:- (4,)\n",
            "Shape of Array_2:- (2, 4)\n",
            "Data Type of Array_1:- int64\n",
            "Data Type of Array_2:- int64\n",
            "Size of Array_1:- 4\n",
            "Size of Array_2:- 8\n"
          ]
        }
      ]
    },
    {
      "cell_type": "markdown",
      "source": [
        "# Array Reshape"
      ],
      "metadata": {
        "id": "34hfYbxwDmJE"
      }
    },
    {
      "cell_type": "code",
      "source": [
        "b=np.array([(7,9,9,10),(11,12,13,14)])\n",
        "print(b)\n",
        "b=b.reshape(4,2) # Changing rows and columns\n",
        "print(b)"
      ],
      "metadata": {
        "colab": {
          "base_uri": "https://localhost:8080/"
        },
        "id": "iPZhKi2S8a31",
        "outputId": "3fae3dd8-946b-4205-c812-e2dfc6e39165"
      },
      "execution_count": null,
      "outputs": [
        {
          "output_type": "stream",
          "name": "stdout",
          "text": [
            "[[ 7  9  9 10]\n",
            " [11 12 13 14]]\n",
            "[[ 7  9]\n",
            " [ 9 10]\n",
            " [11 12]\n",
            " [13 14]]\n"
          ]
        }
      ]
    },
    {
      "cell_type": "markdown",
      "source": [
        "# Array Slicing"
      ],
      "metadata": {
        "id": "mTwt9zMOD6Ow"
      }
    },
    {
      "cell_type": "code",
      "source": [
        "b=np.array([(7,9,11,10),(11,12,13,14)])\n",
        "print(b[0,2])# Slicing the Elements from certain row and column b[row_index,col_index]\n",
        "print(b[0:,2]) # Slicing Elements from all rows and certain column."
      ],
      "metadata": {
        "colab": {
          "base_uri": "https://localhost:8080/"
        },
        "id": "I22Lkm5A8a1d",
        "outputId": "e94a7d66-0608-418a-a07f-d9c82735da32"
      },
      "execution_count": null,
      "outputs": [
        {
          "output_type": "stream",
          "name": "stdout",
          "text": [
            "11\n",
            "[11 13]\n"
          ]
        }
      ]
    },
    {
      "cell_type": "markdown",
      "source": [
        "# Array Value Operation"
      ],
      "metadata": {
        "id": "ENO4Mn1_Fynl"
      }
    },
    {
      "cell_type": "code",
      "source": [
        "e=np.array([(71,91,112,101,111,121,131,141)])\n",
        "print(\"Minimum value in array :- \",e.min())# Minimum value in array\n",
        "print(\"Maximum value in array:-\",e.max())# Maximum value in array\n",
        "print(\"Sum of all elements in array:-\",e.sum())# Sum of all elements in array\n",
        "print(\"Mean of all elements in array:-\",e.mean())# Mean of all elements in array\n",
        "print(\"Standard Deviation of all elements in array:-\",e.std())# Standard Deviation of all elements in array"
      ],
      "metadata": {
        "colab": {
          "base_uri": "https://localhost:8080/"
        },
        "id": "kOhMpVkX8ayz",
        "outputId": "384afcbd-412d-45ee-9042-8f987ea3e2a2"
      },
      "execution_count": null,
      "outputs": [
        {
          "output_type": "stream",
          "name": "stdout",
          "text": [
            "Minimum value in array :-  71\n",
            "Maximum value in array:- 141\n",
            "Sum of all elements in array:- 879\n",
            "Mean of all elements in array:- 109.875\n",
            "Standard Deviation of all elements in array:- 20.889216715808182\n"
          ]
        }
      ]
    },
    {
      "cell_type": "markdown",
      "source": [
        "# Array Arithmetic Operation"
      ],
      "metadata": {
        "id": "q7-zN9i2Gb1J"
      }
    },
    {
      "cell_type": "code",
      "source": [
        "a=np.array([7,8,9,10])\n",
        "b=np.array([11,12,13,14])\n",
        "print(\"Addition of Array:-\",a+b)\n",
        "print(\"Subtraction of Array:-\",a-b)\n",
        "print(\"Multiplication of Array:-\",a*b)\n",
        "print(\"Division of Array:-\",a/b)"
      ],
      "metadata": {
        "colab": {
          "base_uri": "https://localhost:8080/"
        },
        "id": "c9p8vy6c8anz",
        "outputId": "3f83765e-0588-46f1-a6cc-4e00e96555ed"
      },
      "execution_count": null,
      "outputs": [
        {
          "output_type": "stream",
          "name": "stdout",
          "text": [
            "Addition of Array:- [18 20 22 24]\n",
            "Subtraction of Array:- [-4 -4 -4 -4]\n",
            "Multiplication of Array:- [ 77  96 117 140]\n",
            "Division of Array:- [0.63636364 0.66666667 0.69230769 0.71428571]\n"
          ]
        }
      ]
    },
    {
      "cell_type": "code",
      "source": [
        "a=np.array([7,8,9,10])\n",
        "b=np.array([(11,12,13,14),(16,11,9,10)])\n",
        "print(\"Sum of all elements in each column:-\",b.sum(axis=0))# Sum of all elements in each column\n",
        "print(\"Sum of all elements in each row:-\",b.sum(axis=1))#Sum of all elements in each row\n",
        "print(\"Squareroot of array elements:-\",np.sqrt(a))# Squareroot of array elements\n",
        "print(\"Standard Deviation of array:-\",np.std(a))# Standard Deviation of array\n",
        "print(\"Exponential of array elements:-\",np.exp(a))# Exponential of array elements\n",
        "print(\"Natural Log:-\",np.log(a))# Natural Log\n",
        "print(\"Log base 10:-\",np.log10(a))# Log base 10"
      ],
      "metadata": {
        "colab": {
          "base_uri": "https://localhost:8080/"
        },
        "id": "Tly_9ODzH2Ro",
        "outputId": "be1d8e29-c7f1-4d05-f5bf-45db1de4462d"
      },
      "execution_count": null,
      "outputs": [
        {
          "output_type": "stream",
          "name": "stdout",
          "text": [
            "Sum of all elements in each column:- [27 23 22 24]\n",
            "Sum of all elements in each row:- [50 46]\n",
            "Squareroot of array elements:- [2.64575131 2.82842712 3.         3.16227766]\n",
            "Standard Deviation of array:- 1.118033988749895\n",
            "Exponential of array elements:- [ 1096.63315843  2980.95798704  8103.08392758 22026.46579481]\n",
            "Natural Log:- [1.94591015 2.07944154 2.19722458 2.30258509]\n",
            "Log base 10:- [0.84509804 0.90308999 0.95424251 1.        ]\n"
          ]
        }
      ]
    },
    {
      "cell_type": "code",
      "source": [
        "b=np.array([(7,9,11,10),(11,12,13,14)])\n",
        "f=np.array([(1,2,3,4),(5,6,7,8)])\n",
        "print(\"Vertical Stack:-\",np.vstack((b,f)))#Vertical Stack\n",
        "print(\"Horizontal Stack:-\",np.hstack((b,f)))#Horizontal Stack\n",
        "print(\"Merging as Single B:-\",b.ravel())# Merging as Single\n",
        "print(\"Merging as Single F:-\",f.ravel())# Merging as Single"
      ],
      "metadata": {
        "colab": {
          "base_uri": "https://localhost:8080/"
        },
        "id": "T_tv151rH2JO",
        "outputId": "84419f52-2619-489c-a1ad-810c6f453642"
      },
      "execution_count": null,
      "outputs": [
        {
          "output_type": "stream",
          "name": "stdout",
          "text": [
            "Vertical Stack:- [[ 7  9 11 10]\n",
            " [11 12 13 14]\n",
            " [ 1  2  3  4]\n",
            " [ 5  6  7  8]]\n",
            "Horizontal Stack:- [[ 7  9 11 10  1  2  3  4]\n",
            " [11 12 13 14  5  6  7  8]]\n",
            "Merging as Single B:- [ 7  9 11 10 11 12 13 14]\n",
            "Merging as Single F:- [1 2 3 4 5 6 7 8]\n"
          ]
        }
      ]
    },
    {
      "cell_type": "code",
      "source": [],
      "metadata": {
        "id": "4XcpBTNfH169"
      },
      "execution_count": null,
      "outputs": []
    }
  ]
}