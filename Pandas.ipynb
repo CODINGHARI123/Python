{
  "nbformat": 4,
  "nbformat_minor": 0,
  "metadata": {
    "colab": {
      "provenance": [],
      "authorship_tag": "ABX9TyM9FrWTq1TWEO8MssRxvzCe",
      "include_colab_link": true
    },
    "kernelspec": {
      "name": "python3",
      "display_name": "Python 3"
    },
    "language_info": {
      "name": "python"
    }
  },
  "cells": [
    {
      "cell_type": "markdown",
      "metadata": {
        "id": "view-in-github",
        "colab_type": "text"
      },
      "source": [
        "<a href=\"https://colab.research.google.com/github/CODINGHARI123/Python/blob/main/Pandas.ipynb\" target=\"_parent\"><img src=\"https://colab.research.google.com/assets/colab-badge.svg\" alt=\"Open In Colab\"/></a>"
      ]
    },
    {
      "cell_type": "markdown",
      "source": [
        "# Import Library"
      ],
      "metadata": {
        "id": "-pTIEpPqzWFN"
      }
    },
    {
      "cell_type": "code",
      "execution_count": null,
      "metadata": {
        "colab": {
          "base_uri": "https://localhost:8080/"
        },
        "id": "qSplDNCiyZOs",
        "outputId": "3ece0f15-b8b2-47f9-ac98-22abdb278e89"
      },
      "outputs": [
        {
          "output_type": "stream",
          "name": "stdout",
          "text": [
            "Requirement already satisfied: pandas in /usr/local/lib/python3.10/dist-packages (2.0.3)\n",
            "Requirement already satisfied: python-dateutil>=2.8.2 in /usr/local/lib/python3.10/dist-packages (from pandas) (2.8.2)\n",
            "Requirement already satisfied: pytz>=2020.1 in /usr/local/lib/python3.10/dist-packages (from pandas) (2023.4)\n",
            "Requirement already satisfied: tzdata>=2022.1 in /usr/local/lib/python3.10/dist-packages (from pandas) (2024.1)\n",
            "Requirement already satisfied: numpy>=1.21.0 in /usr/local/lib/python3.10/dist-packages (from pandas) (1.25.2)\n",
            "Requirement already satisfied: six>=1.5 in /usr/local/lib/python3.10/dist-packages (from python-dateutil>=2.8.2->pandas) (1.16.0)\n"
          ]
        }
      ],
      "source": [
        "!pip install pandas"
      ]
    },
    {
      "cell_type": "code",
      "source": [
        "import pandas as pd\n",
        "pd.__version__"
      ],
      "metadata": {
        "colab": {
          "base_uri": "https://localhost:8080/",
          "height": 36
        },
        "id": "wzBY9VHizRVk",
        "outputId": "3035b8f5-8454-4ac2-c4e8-f7155d762d19"
      },
      "execution_count": null,
      "outputs": [
        {
          "output_type": "execute_result",
          "data": {
            "text/plain": [
              "'2.0.3'"
            ],
            "application/vnd.google.colaboratory.intrinsic+json": {
              "type": "string"
            }
          },
          "metadata": {},
          "execution_count": 2
        }
      ]
    },
    {
      "cell_type": "markdown",
      "source": [
        "### Loading Data-Series"
      ],
      "metadata": {
        "id": "cB9C9yHHzrbK"
      }
    },
    {
      "cell_type": "code",
      "source": [
        "a= [7,8,9,9]\n",
        "dataset=pd.Series(a)\n",
        "print(dataset)"
      ],
      "metadata": {
        "colab": {
          "base_uri": "https://localhost:8080/"
        },
        "id": "SjXq13aIzRMx",
        "outputId": "50243c92-bfdf-4195-f3ff-4578a746444b"
      },
      "execution_count": null,
      "outputs": [
        {
          "output_type": "stream",
          "name": "stdout",
          "text": [
            "0    7\n",
            "1    8\n",
            "2    9\n",
            "3    9\n",
            "dtype: int64\n"
          ]
        }
      ]
    },
    {
      "cell_type": "code",
      "source": [
        "a= [7,8,9,9]\n",
        "dataset=pd.Series(a , index =['No.1','No.2','No.3','No.4'])\n",
        "print(dataset)"
      ],
      "metadata": {
        "colab": {
          "base_uri": "https://localhost:8080/"
        },
        "id": "JDKia-yLzRBW",
        "outputId": "cfef2956-b66d-4086-9bb3-b8fcc7920e10"
      },
      "execution_count": null,
      "outputs": [
        {
          "output_type": "stream",
          "name": "stdout",
          "text": [
            "No.1    7\n",
            "No.2    8\n",
            "No.3    9\n",
            "No.4    9\n",
            "dtype: int64\n"
          ]
        }
      ]
    },
    {
      "cell_type": "markdown",
      "source": [
        "### Loading Data- DataFrame"
      ],
      "metadata": {
        "id": "RVcp9Tn802jJ"
      }
    },
    {
      "cell_type": "code",
      "source": [
        "a= {\"Name\":[\"Champ\",\"Mr.X\",\"Mr.Y\"],\"Color\":[\"Red\",\"Black\",\"Green\"],\"Marks\":[90,95,98]}\n",
        "dataset=pd.DataFrame(a)\n",
        "print(dataset)"
      ],
      "metadata": {
        "colab": {
          "base_uri": "https://localhost:8080/"
        },
        "id": "CCd914fvzQ5i",
        "outputId": "739f055a-8c84-4838-9b75-955f7dcae3a0"
      },
      "execution_count": null,
      "outputs": [
        {
          "output_type": "stream",
          "name": "stdout",
          "text": [
            "    Name  Color  Marks\n",
            "0  Champ    Red     90\n",
            "1   Mr.X  Black     95\n",
            "2   Mr.Y  Green     98\n"
          ]
        }
      ]
    },
    {
      "cell_type": "markdown",
      "source": [
        "### Loading Dataset From File"
      ],
      "metadata": {
        "id": "IUBaEUUq1vOU"
      }
    },
    {
      "cell_type": "code",
      "source": [
        "# dataset_1 = pd.read_csv(\"file.csv\")\n",
        "# dataset_2 = pd.read_excel(\"file.xlsx\")\n",
        "# dataset_3 = pd.read_csv(\"file.txt\")"
      ],
      "metadata": {
        "id": "Pi_7uU3MzQxO"
      },
      "execution_count": null,
      "outputs": []
    },
    {
      "cell_type": "markdown",
      "source": [
        "### Dataset Details"
      ],
      "metadata": {
        "id": "8P5bubrg3zZS"
      }
    },
    {
      "cell_type": "code",
      "source": [
        "print(dataset.shape) # No.of Rows and Colunms\n",
        "print(dataset.describe())# Detailed info about Dataset\n",
        "print(dataset.info()) # Data Type of Each Column"
      ],
      "metadata": {
        "colab": {
          "base_uri": "https://localhost:8080/"
        },
        "id": "jE2GLqYlzQlR",
        "outputId": "e29087af-2c82-4aa1-f540-d77fbf0f07b8"
      },
      "execution_count": null,
      "outputs": [
        {
          "output_type": "stream",
          "name": "stdout",
          "text": [
            "(3, 3)\n",
            "           Marks\n",
            "count   3.000000\n",
            "mean   94.333333\n",
            "std     4.041452\n",
            "min    90.000000\n",
            "25%    92.500000\n",
            "50%    95.000000\n",
            "75%    96.500000\n",
            "max    98.000000\n",
            "<class 'pandas.core.frame.DataFrame'>\n",
            "RangeIndex: 3 entries, 0 to 2\n",
            "Data columns (total 3 columns):\n",
            " #   Column  Non-Null Count  Dtype \n",
            "---  ------  --------------  ----- \n",
            " 0   Name    3 non-null      object\n",
            " 1   Color   3 non-null      object\n",
            " 2   Marks   3 non-null      int64 \n",
            "dtypes: int64(1), object(2)\n",
            "memory usage: 200.0+ bytes\n",
            "None\n"
          ]
        }
      ]
    },
    {
      "cell_type": "markdown",
      "source": [
        "### Data Slicing"
      ],
      "metadata": {
        "id": "xJH4iy8y4q-W"
      }
    },
    {
      "cell_type": "code",
      "source": [
        "print(dataset.columns)# To get only Columns Title\n",
        "print(dataset[\"Name\"])# To get data based on the specific title\n",
        "print(dataset[[\"Name\",\"Color\"]])# To get data based on the specific title\n",
        "print(dataset[\"Name\"][0:3])# To get data based on the specific title with shape"
      ],
      "metadata": {
        "colab": {
          "base_uri": "https://localhost:8080/"
        },
        "id": "6wHK2-8czQQu",
        "outputId": "ffebeec9-d719-4149-8501-fcd88d6f0e90"
      },
      "execution_count": null,
      "outputs": [
        {
          "output_type": "stream",
          "name": "stdout",
          "text": [
            "Index(['Name', 'Color', 'Marks'], dtype='object')\n",
            "0    Champ\n",
            "1     Mr.X\n",
            "2     Mr.Y\n",
            "Name: Name, dtype: object\n",
            "    Name  Color\n",
            "0  Champ    Red\n",
            "1   Mr.X  Black\n",
            "2   Mr.Y  Green\n",
            "0    Champ\n",
            "1     Mr.X\n",
            "2     Mr.Y\n",
            "Name: Name, dtype: object\n"
          ]
        }
      ]
    },
    {
      "cell_type": "code",
      "source": [
        "print(dataset.iloc[1])# integer location acquire complete info about certain index\n",
        "print(dataset.iloc[0:4])# acquire complete info about range of index\n",
        "print(dataset.iloc[2,1])# acquire specific cell data"
      ],
      "metadata": {
        "colab": {
          "base_uri": "https://localhost:8080/"
        },
        "id": "UMZF5SJ36T6s",
        "outputId": "48e071e7-16e2-4218-95f8-f8be34792476"
      },
      "execution_count": null,
      "outputs": [
        {
          "output_type": "stream",
          "name": "stdout",
          "text": [
            "Name      Mr.X\n",
            "Color    Black\n",
            "Marks       95\n",
            "Name: 1, dtype: object\n",
            "    Name  Color  Marks\n",
            "0  Champ    Red     90\n",
            "1   Mr.X  Black     95\n",
            "2   Mr.Y  Green     98\n",
            "Green\n"
          ]
        }
      ]
    },
    {
      "cell_type": "code",
      "source": [
        "for index,row in dataset.iterrows(): # To print entrie data of a column\n",
        "    print(index,row[\"Name\"])"
      ],
      "metadata": {
        "colab": {
          "base_uri": "https://localhost:8080/"
        },
        "id": "bXAA5R6m6T3J",
        "outputId": "d540ceba-8fa6-4563-8129-982de853e285"
      },
      "execution_count": null,
      "outputs": [
        {
          "output_type": "stream",
          "name": "stdout",
          "text": [
            "0 Champ\n",
            "1 Mr.X\n",
            "2 Mr.Y\n"
          ]
        }
      ]
    },
    {
      "cell_type": "markdown",
      "source": [
        "### Data Slicing with Filters"
      ],
      "metadata": {
        "id": "jtlwPF8m9qg7"
      }
    },
    {
      "cell_type": "code",
      "source": [
        "print(dataset.loc[dataset[\"Marks\"]>=95])"
      ],
      "metadata": {
        "colab": {
          "base_uri": "https://localhost:8080/"
        },
        "id": "1TZTKknx6T0y",
        "outputId": "50d9bbca-c01e-45a3-b0ac-fa045d0b936b"
      },
      "execution_count": null,
      "outputs": [
        {
          "output_type": "stream",
          "name": "stdout",
          "text": [
            "   Name  Color  Marks\n",
            "1  Mr.X  Black     95\n",
            "2  Mr.Y  Green     98\n"
          ]
        }
      ]
    },
    {
      "cell_type": "markdown",
      "source": [
        "### Slicing -Storing Data"
      ],
      "metadata": {
        "id": "xnIBpOq6-ArP"
      }
    },
    {
      "cell_type": "code",
      "source": [
        "print(dataset.sort_values([\"Marks\"],ascending=False))"
      ],
      "metadata": {
        "colab": {
          "base_uri": "https://localhost:8080/"
        },
        "id": "xhk2fXWb6TyL",
        "outputId": "ab7ee161-1c53-4224-90c7-d476b999cd07"
      },
      "execution_count": null,
      "outputs": [
        {
          "output_type": "stream",
          "name": "stdout",
          "text": [
            "    Name  Color  Marks\n",
            "2   Mr.Y  Green     98\n",
            "1   Mr.X  Black     95\n",
            "0  Champ    Red     90\n"
          ]
        }
      ]
    },
    {
      "cell_type": "markdown",
      "source": [
        "### Editing Data"
      ],
      "metadata": {
        "id": "J6ZrF1SY_wHj"
      }
    },
    {
      "cell_type": "code",
      "source": [
        "dataset[\"Updated_Marks\"]=dataset[\"Marks\"]+1\n",
        "print(dataset)"
      ],
      "metadata": {
        "colab": {
          "base_uri": "https://localhost:8080/"
        },
        "id": "NvWklF5J6Tv1",
        "outputId": "912368cf-cd0a-4f4e-d2c8-ed6ae6ab746f"
      },
      "execution_count": null,
      "outputs": [
        {
          "output_type": "stream",
          "name": "stdout",
          "text": [
            "    Name  Color  Marks  Updated_Marks\n",
            "0  Champ    Red     90             91\n",
            "1   Mr.X  Black     95             96\n",
            "2   Mr.Y  Green     98             99\n"
          ]
        }
      ]
    },
    {
      "cell_type": "code",
      "source": [
        "dataset.drop(\"Updated_Marks\",axis=1,inplace=True)\n",
        "print(dataset)"
      ],
      "metadata": {
        "colab": {
          "base_uri": "https://localhost:8080/"
        },
        "id": "5j2NgaRs6Ts9",
        "outputId": "6e6e9f6a-38d3-49eb-f981-809a7480227f"
      },
      "execution_count": null,
      "outputs": [
        {
          "output_type": "stream",
          "name": "stdout",
          "text": [
            "    Name  Color  Marks\n",
            "0  Champ    Red     90\n",
            "1   Mr.X  Black     95\n",
            "2   Mr.Y  Green     98\n"
          ]
        }
      ]
    },
    {
      "cell_type": "markdown",
      "source": [
        "### Save Dataset in New File"
      ],
      "metadata": {
        "id": "r3_pN9wKA02-"
      }
    },
    {
      "cell_type": "code",
      "source": [
        "dataset.to_csv(\"new_dataset.csv\")"
      ],
      "metadata": {
        "id": "QG_gLpAEAz3V"
      },
      "execution_count": null,
      "outputs": []
    },
    {
      "cell_type": "markdown",
      "source": [
        "### Checking Null values in Dataset"
      ],
      "metadata": {
        "id": "3Bc6bgJXBCB-"
      }
    },
    {
      "cell_type": "code",
      "source": [
        "dataset.isnull().sum()"
      ],
      "metadata": {
        "colab": {
          "base_uri": "https://localhost:8080/"
        },
        "id": "jRcxyAG1BBwH",
        "outputId": "8d2fe290-48d8-4653-afe8-5c19f7b5312b"
      },
      "execution_count": null,
      "outputs": [
        {
          "output_type": "execute_result",
          "data": {
            "text/plain": [
              "Name     0\n",
              "Color    0\n",
              "Marks    0\n",
              "dtype: int64"
            ]
          },
          "metadata": {},
          "execution_count": 45
        }
      ]
    },
    {
      "cell_type": "markdown",
      "source": [
        "### Acquiring Dataset without NaN Value , by removing the entire column"
      ],
      "metadata": {
        "id": "_7BWwXdqB1Rl"
      }
    },
    {
      "cell_type": "code",
      "source": [
        "# Method 1 - Removing nan values  or filling  values with mode if they are categorical values\n",
        "dataset=dataset[dataset[[\"Marks\",\"Name\",\"Color\"]].notnull()]\n",
        "print(dataset)"
      ],
      "metadata": {
        "colab": {
          "base_uri": "https://localhost:8080/"
        },
        "id": "7mfBcAxmBBm7",
        "outputId": "3f4592c5-7bd3-4916-aadb-981a3524c794"
      },
      "execution_count": null,
      "outputs": [
        {
          "output_type": "stream",
          "name": "stdout",
          "text": [
            "    Name  Color  Marks\n",
            "0  Champ    Red     90\n",
            "1   Mr.X  Black     95\n",
            "2   Mr.Y  Green     98\n"
          ]
        }
      ]
    },
    {
      "cell_type": "markdown",
      "source": [
        "### Filling NaN with mean of that specific Column"
      ],
      "metadata": {
        "id": "u_JS4h6pCebT"
      }
    },
    {
      "cell_type": "code",
      "source": [
        "#Method 2 - Filling NaN values with mean or median if they are Numerical values\n",
        "dataset_1=dataset[\"Marks\"].fillna(dataset[\"Marks\"].mean())\n",
        "print(dataset_1)"
      ],
      "metadata": {
        "colab": {
          "base_uri": "https://localhost:8080/"
        },
        "id": "vPWBlHT8BBQL",
        "outputId": "63ac4c1f-620f-4cbb-92f4-e124538c824e"
      },
      "execution_count": null,
      "outputs": [
        {
          "output_type": "stream",
          "name": "stdout",
          "text": [
            "0    90\n",
            "1    95\n",
            "2    98\n",
            "Name: Marks, dtype: int64\n"
          ]
        }
      ]
    },
    {
      "cell_type": "markdown",
      "source": [
        "### Mapping certain Data to another value"
      ],
      "metadata": {
        "id": "jGIjwzzVDgbj"
      }
    },
    {
      "cell_type": "code",
      "source": [
        "Name=set(dataset[\"Name\"])\n",
        "dataset[\"Name\"]=dataset[\"Name\"].map({\"Champ\":\"Champ\",\"Mr.X\":\"Hari\",\"Mr.Y\":\"Hanuman\"})\n",
        "print(dataset.head(3))"
      ],
      "metadata": {
        "colab": {
          "base_uri": "https://localhost:8080/"
        },
        "id": "-oIdhlLPDfyM",
        "outputId": "fbece531-8340-4254-db4e-1de9424d43ee"
      },
      "execution_count": null,
      "outputs": [
        {
          "output_type": "stream",
          "name": "stdout",
          "text": [
            "      Name  Color  Marks\n",
            "0    Champ    Red     90\n",
            "1     Hari  Black     95\n",
            "2  Hanuman  Green     98\n"
          ]
        }
      ]
    }
  ]
}